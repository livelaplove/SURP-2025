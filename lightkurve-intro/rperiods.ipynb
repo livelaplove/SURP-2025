{
 "cells": [
  {
   "cell_type": "markdown",
   "id": "6d4cf9a1",
   "metadata": {},
   "source": [
    "# Lightkurve and Periodogram Class"
   ]
  },
  {
   "cell_type": "code",
   "execution_count": 11,
   "id": "4ccc736f",
   "metadata": {},
   "outputs": [],
   "source": [
    "%matplotlib inline\n",
    "import lightkurve as lk\n",
    "\n",
    "\n",
    "class KeplerLCPG:\n",
    "    def __init__(self, target, quarter, oversample_factor=1):\n",
    "        self.target = target\n",
    "        self.lc = lk.search_lightcurve(target, author='Kepler', quarter=quarter, cadence='long').download_all().stitch()\n",
    "        self.pg = self.lc.to_periodogram(oversample_factor=oversample_factor)\n",
    "        self.period = self.pg.period_at_max_power.value\n",
    "        \n",
    "    def plotlc(self):\n",
    "        return self.lc.plot()\n",
    "\n",
    "    def plotpg(self, view='period', scale='linear'):\n",
    "        return self.pg.plot(view=view, scale=scale)\n",
    "    \n",
    "    def foldlc(self, period):\n",
    "        return self.lc.fold(period=period).scatter()\n",
    "    \n",
    "    def compare(self, ref):\n",
    "        return f'{(self.period/ref - 1) * 100:.3f} %'\n",
    "    \n",
    "    def __repr__(self):\n",
    "        return f'{self.target}: {self.period:.3f}'\n",
    "    \n",
    "    def __str__(self):\n",
    "        return self.__repr__()"
   ]
  },
  {
   "cell_type": "markdown",
   "id": "5ca6e009",
   "metadata": {},
   "source": [
    "# Function Comparing to McQuillan 2014"
   ]
  },
  {
   "cell_type": "code",
   "execution_count": 25,
   "id": "5ee334bd",
   "metadata": {},
   "outputs": [],
   "source": [
    "def compare(source, output, n):\n",
    "    d = open(output, 'w')\n",
    "\n",
    "    with open(source, 'r') as s:\n",
    "        line = s.readline()\n",
    "\n",
    "        for i in range(n):\n",
    "            line = line.split()\n",
    "\n",
    "            lcpg = KeplerLCPG(f'KIC {line[0]}', quarter=(4, 5, 6, 7, 8))\n",
    "            d.write(f'KIC {line[0]:>8}:\\t{lcpg.period:<6.3f},\\t{line[4]:>6},\\t{lcpg.compare(float(line[4])):>10}\\n')\n",
    "            # lcpg.plotpg(scale='log')\n",
    "            del(lcpg)\n",
    "\n",
    "            line = s.readline()\n",
    "\n",
    "    d.close()\n",
    "\n",
    "def main(n):\n",
    "    if __name__ == '__main__':\n",
    "        compare('originaldata.txt', 'comparison.txt', n)\n",
    "\n",
    "main(n=25)\n"
   ]
  }
 ],
 "metadata": {
  "kernelspec": {
   "display_name": "Python 3",
   "language": "python",
   "name": "python3"
  },
  "language_info": {
   "codemirror_mode": {
    "name": "ipython",
    "version": 3
   },
   "file_extension": ".py",
   "mimetype": "text/x-python",
   "name": "python",
   "nbconvert_exporter": "python",
   "pygments_lexer": "ipython3",
   "version": "3.13.3"
  }
 },
 "nbformat": 4,
 "nbformat_minor": 5
}
