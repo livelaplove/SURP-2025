{
 "cells": [
  {
   "cell_type": "markdown",
   "id": "1debbed3",
   "metadata": {},
   "source": [
    "# Merging McQuillan and Legacy Data"
   ]
  },
  {
   "cell_type": "code",
   "execution_count": 4,
   "id": "ceac6a0b",
   "metadata": {},
   "outputs": [
    {
     "data": {
      "image/png": "[encoded data removed]",
      "text/plain": [
       "<Figure size 800x600 with 1 Axes>"
      ]
     },
     "metadata": {},
     "output_type": "display_data"
    },
    {
     "data": {
      "text/html": [
       "<div>\n",
       "<style scoped>\n",
       "    .dataframe tbody tr th:only-of-type {\n",
       "        vertical-align: middle;\n",
       "    }\n",
       "\n",
       "    .dataframe tbody tr th {\n",
       "        vertical-align: top;\n",
       "    }\n",
       "\n",
       "    .dataframe thead th {\n",
       "        text-align: right;\n",
       "    }\n",
       "</style>\n",
       "<table border=\"1\" class=\"dataframe\">\n",
       "  <thead>\n",
       "    <tr style=\"text-align: right;\">\n",
       "      <th></th>\n",
       "      <th>KIC</th>\n",
       "      <th>Period</th>\n",
       "      <th>Age</th>\n",
       "    </tr>\n",
       "  </thead>\n",
       "  <tbody>\n",
       "    <tr>\n",
       "      <th>0</th>\n",
       "      <td>7103006</td>\n",
       "      <td>4.733</td>\n",
       "      <td>2.0460</td>\n",
       "    </tr>\n",
       "    <tr>\n",
       "      <th>1</th>\n",
       "      <td>7206837</td>\n",
       "      <td>4.072</td>\n",
       "      <td>2.4476</td>\n",
       "    </tr>\n",
       "    <tr>\n",
       "      <th>2</th>\n",
       "      <td>7771282</td>\n",
       "      <td>11.744</td>\n",
       "      <td>3.1491</td>\n",
       "    </tr>\n",
       "    <tr>\n",
       "      <th>3</th>\n",
       "      <td>7871531</td>\n",
       "      <td>35.361</td>\n",
       "      <td>9.8371</td>\n",
       "    </tr>\n",
       "    <tr>\n",
       "      <th>4</th>\n",
       "      <td>8379927</td>\n",
       "      <td>17.259</td>\n",
       "      <td>1.6471</td>\n",
       "    </tr>\n",
       "    <tr>\n",
       "      <th>5</th>\n",
       "      <td>9098294</td>\n",
       "      <td>20.119</td>\n",
       "      <td>8.4705</td>\n",
       "    </tr>\n",
       "    <tr>\n",
       "      <th>6</th>\n",
       "      <td>10079226</td>\n",
       "      <td>15.694</td>\n",
       "      <td>2.9687</td>\n",
       "    </tr>\n",
       "    <tr>\n",
       "      <th>7</th>\n",
       "      <td>10162436</td>\n",
       "      <td>12.331</td>\n",
       "      <td>2.5142</td>\n",
       "    </tr>\n",
       "    <tr>\n",
       "      <th>8</th>\n",
       "      <td>10454113</td>\n",
       "      <td>14.448</td>\n",
       "      <td>2.3089</td>\n",
       "    </tr>\n",
       "    <tr>\n",
       "      <th>9</th>\n",
       "      <td>12009504</td>\n",
       "      <td>9.426</td>\n",
       "      <td>3.9903</td>\n",
       "    </tr>\n",
       "  </tbody>\n",
       "</table>\n",
       "</div>"
      ],
      "text/plain": [
       "        KIC  Period     Age\n",
       "0   7103006   4.733  2.0460\n",
       "1   7206837   4.072  2.4476\n",
       "2   7771282  11.744  3.1491\n",
       "3   7871531  35.361  9.8371\n",
       "4   8379927  17.259  1.6471\n",
       "5   9098294  20.119  8.4705\n",
       "6  10079226  15.694  2.9687\n",
       "7  10162436  12.331  2.5142\n",
       "8  10454113  14.448  2.3089\n",
       "9  12009504   9.426  3.9903"
      ]
     },
     "execution_count": 4,
     "metadata": {},
     "output_type": "execute_result"
    }
   ],
   "source": [
    "import pandas as pd\n",
    "import matplotlib.pyplot as plt\n",
    "import warnings\n",
    "\n",
    "# ignoring syntax warnings that come up w/ use of sep kwarg\n",
    "warnings.filterwarnings('ignore')\n",
    "\n",
    "legacy = pd.read_csv('../legacyabridged.txt', sep='\\s+')[['KIC', 'Age']]\n",
    "mcquillan = pd.read_csv('../mcquillanabridged.txt', header=None, sep='\\s+')[[0,4]]\n",
    "mcquillan.columns = ['KIC', 'Period']\n",
    "\n",
    "y = pd.merge(mcquillan, legacy)\n",
    "\n",
    "plt.figure(figsize=(8,6))\n",
    "plt.title('Period vs. Age for Dwarf Stars')\n",
    "plt.scatter(y['Age'], y['Period'], s=10, label='data')\n",
    "plt.xlabel('Age (Gyr)')\n",
    "plt.ylabel('Period (d)')\n",
    "plt.legend()\n",
    "plt.show()\n",
    "\n",
    "y\n"
   ]
  }
 ],
 "metadata": {
  "kernelspec": {
   "display_name": "Python 3",
   "language": "python",
   "name": "python3"
  },
  "language_info": {
   "codemirror_mode": {
    "name": "ipython",
    "version": 3
   },
   "file_extension": ".py",
   "mimetype": "text/x-python",
   "name": "python",
   "nbconvert_exporter": "python",
   "pygments_lexer": "ipython3",
   "version": "3.13.3"
  }
 },
 "nbformat": 4,
 "nbformat_minor": 5
}
